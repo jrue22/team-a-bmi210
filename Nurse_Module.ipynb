{
 "cells": [
  {
   "cell_type": "code",
   "execution_count": null,
   "id": "19d95371-1605-4cfa-94ec-33108cc915c9",
   "metadata": {},
   "outputs": [],
   "source": [
    "nurse_dict = {}\n",
    "patient_dict = {}"
   ]
  },
  {
   "cell_type": "code",
   "execution_count": 20,
   "id": "b539ffd9-968b-4d1c-b3ee-a7d4411b29b5",
   "metadata": {},
   "outputs": [],
   "source": [
    "class Patient:\n",
    "    def __init__(self, patient_id, first_name, last_name, age, address, admit_date, billing_items, line_item_costs):\n",
    "        self.patient_id = patient_id\n",
    "        self.first_name = first_name\n",
    "        self.last_name = last_name\n",
    "        self.__age = age \n",
    "        self.address = address\n",
    "        self.admit_date = admit_date\n",
    "        self.billing_items = billing_items\n",
    "        self.line_item_costs = line_item_costs\n",
    "        self.total_bill = billing_items + line_item_costs\n",
    "\n",
    "    def get_age(self):\n",
    "        return self.__age\n",
    "\n",
    "    def to_string(self):\n",
    "        return f\"{self.patient_id}, {self.first_name}, {self.last_name}, {self.__age}, {self.address}, {self.admit_date}, {self.billing_items}, {self.line_item_costs}, {self.total_bill}\"\n",
    "\n",
    "\n",
    "def new_patient():\n",
    "    patient_id = input(\"Patient ID: \")\n",
    "    first_name = input(\"First Name: \")\n",
    "    last_name = input(\"Last Name: \")\n",
    "    age = input(\"Age: \")\n",
    "    address = input(\"Address: \")\n",
    "    admit_date = input(\"Admit Date: \")\n",
    "    billing_items = int(input(\"Billing Items: \"))\n",
    "    line_item_costs = int(input(\"Line Item Costs: \"))\n",
    "    patient_dict[patient_id] = Patient(patient_id, first_name, last_name, age, address, admit_date, billing_items, line_item_costs)\n",
    "\n",
    "    #with open(\"patients.txt\", \"a\") as file:\n",
    "        #file.write(patient.to_string() + \"\\n\")\n",
    "    \n",
    "    print(f\"Patient {first_name} {last_name} has been stored in the file.\")\n",
    "\n"
   ]
  },
  {
   "cell_type": "code",
   "execution_count": 31,
   "id": "c3ead020-3298-4cdb-b0b7-2124e8ca3178",
   "metadata": {},
   "outputs": [],
   "source": [
    "\n",
    "class Nurse:\n",
    "    def __init__(self, user_id, password, first_name, last_name, floor):\n",
    "        self.__user_id = user_id\n",
    "        self.__password = password\n",
    "        self.first_name = first_name\n",
    "        self.last_name = last_name\n",
    "        self.floor = floor\n",
    "    def get_user_id(self):\n",
    "        return self.__user_id\n",
    "    def get_password(self):\n",
    "        return self.__password\n",
    "    def get_password_hidden(self):\n",
    "        hidden_password = \"\"\n",
    "        for letter in self.get_password():\n",
    "            hidden_password += \"*\"\n",
    "        return hidden_password\n",
    "    \n",
    "    def login_nurse():\n",
    "        print(\"\\n--- Nurse Login ---\")\n",
    "        print(\"Please enter your User ID and Password, or Q to quit\")\n",
    "        while True: \n",
    "            user_id_input = input(\"User ID: \")\n",
    "            if user_id_input == 'Q' or user_id_input == 'q':\n",
    "                print(\"Exiting Nurse Login\")\n",
    "                print(\"--------------------\\n\")\n",
    "                break\n",
    "            password_input = input(\"Password: \")\n",
    "            if user_id_input in nurse_dict:\n",
    "                active_user = nurse_dict.get(user_id_input)\n",
    "                if password_input == active_user.get_password():\n",
    "                    print(\"Login Accepted\")\n",
    "                    print(\"--------------------\\n\")\n",
    "                    active_user.interface_for_nurse()\n",
    "                else:\n",
    "                    print(\"User ID or Password Incorrect. Try again\")\n",
    "                    continue\n",
    "            else:\n",
    "                print(\"User ID or Password Incorrect. Try again\")\n",
    "                continue\n",
    "            break\n",
    "\n",
    "    def interface_for_nurse(self):\n",
    "        while True:\n",
    "            print(\"\\n--- Nurse Interface ---\")\n",
    "            print(\"Welcome to the Nurse Interface\")\n",
    "            print(\"1. Make New Patient\\n2. View Patient Details\\n3. Update Patient Details\\n4. Display Nurse Details\\n5. Logout\")\n",
    "            interface_input = input(\"What would you like to do?\\n\")\n",
    "            if interface_input == '1':\n",
    "                self.make_new_patient()\n",
    "            elif interface_input == '2':\n",
    "                self.view_patient_details()\n",
    "            elif interface_input == '3':\n",
    "                self.update_patient_details()\n",
    "            elif interface_input == '4':\n",
    "                self.display_nurse_info()\n",
    "            elif interface_input == '5':\n",
    "                print(\"--- Closing interface ---\")\n",
    "                break\n",
    "            else:\n",
    "                print(\"Invalid Input\")\n",
    "                continue\n",
    "    def make_new_patient(self):\n",
    "        print(\"\\n--- New Patient ---\")\n",
    "        print(\"Please enter patient information\")\n",
    "        new_patient()\n",
    "        print(\"--------------------\")\n",
    "    def display_nurse_info(self):\n",
    "        print(\"--- Account Info ---\")\n",
    "        print(f\"Name - {self.last_name},{self.first_name}\\nUser ID - {self.get_user_id()}\\nPassword - {self.get_password_hidden()}\\nFloor - {self.floor}\")\n",
    "        print(\"--------------------\")\n",
    "    def view_patient_details(self):\n",
    "        while True:\n",
    "            print(\"--- Patient Details ---\")\n",
    "            patient_details_input = input(\"Enter Patient ID or Q to exit: \")\n",
    "            if patient_details_input == 'Q' or patient_details_input == 'q':\n",
    "                print(\"Exiting Nurse Login\")\n",
    "                break\n",
    "            try:\n",
    "                target_patient = patient_dict[patient_details_input]\n",
    "                print(f\"Name - {target_patient.last_name},{target_patient.first_name}\\nAge - {target_patient.get_age()}\\nAddress - {target_patient.address}\\nAdmit Date -  {target_patient.admit_date}\\nBilling Items -  {target_patient.billing_items}\\nLine Item Costs - {target_patient.line_item_costs}\\nTotal Bill -  {target_patient.total_bill}\")\n",
    "                break\n",
    "            except KeyError:\n",
    "                print(\"No Patient Found. Try again.\")\n",
    "                continue\n",
    "        print(\"--------------------\\n\")\n",
    "    def update_patient_details(self):\n",
    "        while True:\n",
    "            print(\"--- Patient Details ---\")\n",
    "            patient_details_input = input(\"Enter Patient ID or Q to exit: \")\n",
    "            if patient_details_input == 'Q' or patient_details_input == 'q':\n",
    "                print(\"Exiting Nurse Login\")\n",
    "                break\n",
    "            try:\n",
    "                target_patient = patient_dict[patient_details_input]\n",
    "                break\n",
    "            except KeyError:\n",
    "                print(\"No Patient Found. Try again.\")\n",
    "                continue\n",
    "        while True:\n",
    "            print(\"\\n--------------------\")\n",
    "            print(f\"Name - {target_patient.last_name},{target_patient.first_name}\\nAge - {target_patient.get_age()}\\nAddress - {target_patient.address}\\nAdmit Date -  {target_patient.admit_date}\\nBilling Items -  {target_patient.billing_items}\\nLine Item Costs - {target_patient.line_item_costs}\\nTotal Bill -  {target_patient.total_bill}\")\n",
    "            print(\"--- Edit Patient ---\")\n",
    "            print(\"1. Patient Name\\n2. Patient Age\\n3. Patient Address\\n4. Billing Items\\n5. Line Item Costs\\n6. Exit\")\n",
    "            update_input = input(\"What would you like to change?\\n\")\n",
    "            if update_input == '1':\n",
    "                target_patient.first_name = input(\"New First Name: \")\n",
    "                target_patient.last_name = input(\"New Last Name: \")\n",
    "                print(f\"Updated Name - {target_patient.last_name},{target_patient.first_name}\")\n",
    "            elif update_input == '2':\n",
    "                target_patient.__age = input(\"Updated age: \")\n",
    "                print(f\"Updated Name - {target_patient.get_age()}\")\n",
    "            elif update_input == '3':\n",
    "                target_patient.address = input(\"Updated address: \")\n",
    "                print(f\"Updated Address - {target_patient.address}\")\n",
    "            elif update_input == '4':\n",
    "                target_patient.billing_items = input(\"Updated billing items: \")\n",
    "                print(f\"Updated Billing Items - {target_patient.billing_items}\")\n",
    "            elif update_input == '5':\n",
    "                target_patient.line_item_costs = input(\"Updated line item costs: \")\n",
    "                print(f\"Updated Billing Items - {target_patient.line_item_costs}\")\n",
    "            elif update_input == '6':\n",
    "                print(\"---Closing interface---\")\n",
    "                break\n",
    "            \n",
    "def make_new_nurse():\n",
    "    print(\"Please enter Nurse Profile information\")\n",
    "    user_id = input(\"User ID: \")\n",
    "    password = input(\"Password: \")\n",
    "    first_name = input(\"First Name: \")\n",
    "    last_name = input(\"Last Name: \")\n",
    "    floor = input(\"Floor Number: \")\n",
    "    nurse_dict[user_id] = Nurse(user_id, password, first_name, last_name, floor)   \n",
    "\n",
    "  "
   ]
  },
  {
   "cell_type": "code",
   "execution_count": 18,
   "id": "516b2b36-e227-407b-b6a4-69bd8d25f820",
   "metadata": {},
   "outputs": [
    {
     "name": "stdout",
     "output_type": "stream",
     "text": [
      "Please enter Nurse Profile information\n"
     ]
    },
    {
     "name": "stdin",
     "output_type": "stream",
     "text": [
      "User ID:  nurse1\n",
      "Password:  password\n",
      "First Name:  Sasha\n",
      "Last Name:  Patschke\n",
      "Floor Number:  1\n",
      "Patient ID:  1\n",
      "First Name:  Ian\n",
      "Last Name:  Vandenbrooks\n",
      "Age:  23\n",
      "Address:  My heart\n",
      "Admit Date:  04/19/2025\n",
      "Billing Items:  15\n",
      "Line Item Costs:  25\n"
     ]
    },
    {
     "name": "stdout",
     "output_type": "stream",
     "text": [
      "Patient Ian Vandenbrooks has been stored in the file.\n"
     ]
    }
   ],
   "source": [
    "make_new_nurse()\n",
    "new_patient()"
   ]
  },
  {
   "cell_type": "code",
   "execution_count": 32,
   "id": "89fccec9-e8e5-49c7-8856-123f7a15c67b",
   "metadata": {},
   "outputs": [
    {
     "name": "stdout",
     "output_type": "stream",
     "text": [
      "\n",
      "--- Nurse Login ---\n",
      "Please enter your User ID and Password, or Q to quit\n"
     ]
    },
    {
     "name": "stdin",
     "output_type": "stream",
     "text": [
      "User ID:  nurse1\n",
      "Password:  password\n"
     ]
    },
    {
     "name": "stdout",
     "output_type": "stream",
     "text": [
      "Login Accepted\n",
      "--------------------\n",
      "\n",
      "\n",
      "--- Nurse Interface ---\n",
      "Welcome to the Nurse Interface\n",
      "1. Make New Patient\n",
      "2. View Patient Details\n",
      "3. Update Patient Details\n",
      "4. Display Nurse Details\n",
      "5. Logout\n"
     ]
    },
    {
     "name": "stdin",
     "output_type": "stream",
     "text": [
      "What would you like to do?\n",
      " 5\n"
     ]
    },
    {
     "name": "stdout",
     "output_type": "stream",
     "text": [
      "--------------------\n",
      "\n",
      "--- Closing interface ---\n"
     ]
    }
   ],
   "source": [
    "Nurse.login_nurse()"
   ]
  }
 ],
 "metadata": {
  "kernelspec": {
   "display_name": "Python 3 (ipykernel)",
   "language": "python",
   "name": "python3"
  },
  "language_info": {
   "codemirror_mode": {
    "name": "ipython",
    "version": 3
   },
   "file_extension": ".py",
   "mimetype": "text/x-python",
   "name": "python",
   "nbconvert_exporter": "python",
   "pygments_lexer": "ipython3",
   "version": "3.12.7"
  }
 },
 "nbformat": 4,
 "nbformat_minor": 5
}
