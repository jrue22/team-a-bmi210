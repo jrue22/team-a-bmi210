{
 "cells": [
  {
   "cell_type": "code",
   "execution_count": 76,
   "id": "b539ffd9-968b-4d1c-b3ee-a7d4411b29b5",
   "metadata": {},
   "outputs": [],
   "source": [
    "class Patient:\n",
    "    def __init__(self, patient_id, first_name, last_name, age, address, admit_date, billing_items, line_item_costs):\n",
    "        self.patient_id = patient_id\n",
    "        self.first_name = first_name\n",
    "        self.last_name = last_name\n",
    "        self.__age = age \n",
    "        self.address = address\n",
    "        self.admit_date = admit_date\n",
    "        self.billing_items = billing_items\n",
    "        self.line_item_costs = line_item_costs\n",
    "        self.total_bill = billing_items + line_item_costs\n",
    "\n",
    "    def get_age(self):\n",
    "        return self.__age\n",
    "\n",
    "    def to_string(self):\n",
    "        return f\"{self.patient_id}, {self.first_name}, {self.last_name}, {self.__age}, {self.address}, {self.admit_date}, {self.billing_items}, {self.line_item_costs}, {self.total_bill}\"\n",
    "\n",
    "patient_dict = {}\n",
    "def new_patient():\n",
    "    patient_id = input(\"Patient ID: \")\n",
    "    first_name = input(\"First Name: \")\n",
    "    last_name = input(\"Last Name: \")\n",
    "    age = input(\"Age: \")\n",
    "    address = input(\"Address: \")\n",
    "    admit_date = input(\"Admit Date: \")\n",
    "    billing_items = int(input(\"Billing Items: \"))\n",
    "    line_item_costs = int(input(\"Line Item Costs: \"))\n",
    "    patient_dict[patient_id] = Patient(patient_id, first_name, last_name, age, address, admit_date, billing_items, line_item_costs)\n",
    "\n",
    "    #with open(\"patients.txt\", \"a\") as file:\n",
    "        #file.write(patient.to_string() + \"\\n\")\n",
    "    \n",
    "    print(f\"Patient {first_name} {last_name} has been stored in the file.\")\n",
    "\n"
   ]
  },
  {
   "cell_type": "code",
   "execution_count": 94,
   "id": "c3ead020-3298-4cdb-b0b7-2124e8ca3178",
   "metadata": {},
   "outputs": [],
   "source": [
    "nurse_dict = {}\n",
    "class Nurse:\n",
    "    def __init__(self, user_id, password, first_name, last_name, floor):\n",
    "        self.__user_id = user_id\n",
    "        self.__password = password\n",
    "        self.first_name = first_name\n",
    "        self.last_name = last_name\n",
    "        self.floor = floor\n",
    "    def get_user_id(self):\n",
    "        return self.__user_id\n",
    "    def get_password(self):\n",
    "        return self.__password\n",
    "    def get_password_hidden(self):\n",
    "        hidden_password = \"\"\n",
    "        for letter in self.get_password():\n",
    "            hidden_password += \"*\"\n",
    "        return hidden_password\n",
    "    \n",
    "    def login_nurse():\n",
    "        print(\"\\n--- Nurse Login ---\")\n",
    "        print(\"Please enter your User ID and Password, or Q to quit\")\n",
    "        while True: \n",
    "            user_id_input = input(\"User ID: \")\n",
    "            if user_id_input == 'Q' or user_id_input == 'q':\n",
    "                print(\"Exiting Nurse Login\")\n",
    "                break\n",
    "            password_input = input(\"Password: \")\n",
    "            if user_id_input in nurse_dict:\n",
    "                active_user = nurse_dict.get(user_id_input)\n",
    "                if password_input == active_user.get_password():\n",
    "                    print(\"Login Accepted\")\n",
    "                    active_user.interface_for_nurse()\n",
    "                else:\n",
    "                    print(\"User ID or Password Incorrect. Try again\")\n",
    "                    continue\n",
    "            else:\n",
    "                print(\"User ID or Password Incorrect. Try again\")\n",
    "                continue\n",
    "            break\n",
    "    def interface_for_nurse(self):\n",
    "        print(\"\\n--- Nurse Interface ---\")\n",
    "        print(\"Welcome to the Nurse Interface\")\n",
    "        while True:\n",
    "            print(\"1. Make New Patient\\n2. View Patient Details\\n3. Update Patient Details\\n4. Display Nurse Details\\n5. Logout\")\n",
    "            interface_input = input(\"What would you like to do?\\n\")\n",
    "            if interface_input == '1':\n",
    "                self.make_new_patient()\n",
    "            if interface_input == '2':\n",
    "                self.view_patient_details()\n",
    "            if interface_input == '4':\n",
    "                self.display_account_info()\n",
    "            if interface_input == '5':\n",
    "                print(\"--- Closing interface ---\")\n",
    "                break\n",
    "    def make_new_patient(self):\n",
    "        print(\"\\n--- New Patient ---\")\n",
    "        print(\"Please enter patient information\")\n",
    "        new_patient()\n",
    "        print(\"--------------------\")\n",
    "    def display_account_info(self):\n",
    "        print(\"--- Account Info ---\")\n",
    "        print(f\"Name - {self.last_name},{self.first_name}\\nUser ID - {self.get_user_id()}\\nPassword - {self.get_password_hidden()}\\nFloor - {self.floor}\")\n",
    "        print(\"--------------------\")\n",
    "    def view_patient_details(self):\n",
    "        print(\"--- Patient Details ---\")\n",
    "        patient_details_input = input(\"Enter Patient ID: \")\n",
    "        try:\n",
    "            target_patient = patient_dict[patient_details_input]\n",
    "            print(f\"Name - {target_patient.last_name},{target_patient.first_name}\\nAge - {target_patient.get_age()}\\nAddress - {target_patient.address}\\nAdmit Date -  {target_patient.admit_date}\\nBilling Items -  {target_patient.billing_items}\\nLine Item Costs - {target_patient.line_item_costs}\\nTotal Bill -  {target_patient.total_bill}\")\n",
    "        except KeyError:\n",
    "            print(\"No Patient Found. Returning to Interface.\")\n",
    "        print(\"--------------------\")\n",
    "        \n",
    "def make_new_nurse():\n",
    "    print(\"Please enter Nurse Profile information\")\n",
    "    user_id = input(\"User ID: \")\n",
    "    password = input(\"Password: \")\n",
    "    first_name = input(\"First Name: \")\n",
    "    last_name = input(\"Last Name: \")\n",
    "    floor = input(\"Floor Number: \")\n",
    "    nurse_dict[user_id] = Nurse(user_id, password, first_name, last_name, floor)   \n",
    "\n",
    "  "
   ]
  },
  {
   "cell_type": "code",
   "execution_count": 96,
   "id": "516b2b36-e227-407b-b6a4-69bd8d25f820",
   "metadata": {},
   "outputs": [
    {
     "name": "stdout",
     "output_type": "stream",
     "text": [
      "Please enter Nurse Profile information\n"
     ]
    },
    {
     "name": "stdin",
     "output_type": "stream",
     "text": [
      "User ID:  nurse1\n",
      "Password:  password\n",
      "First Name:  Sasha\n",
      "Last Name:  Patschke\n",
      "Floor Number:  1\n"
     ]
    }
   ],
   "source": [
    "make_new_nurse()"
   ]
  },
  {
   "cell_type": "code",
   "execution_count": 98,
   "id": "89fccec9-e8e5-49c7-8856-123f7a15c67b",
   "metadata": {},
   "outputs": [
    {
     "name": "stdout",
     "output_type": "stream",
     "text": [
      "\n",
      "--- Nurse Login ---\n",
      "Please enter your User ID and Password, or Q to quit\n"
     ]
    },
    {
     "name": "stdin",
     "output_type": "stream",
     "text": [
      "User ID:  nurse1\n",
      "Password:  password\n"
     ]
    },
    {
     "name": "stdout",
     "output_type": "stream",
     "text": [
      "Login Accepted\n",
      "\n",
      "--- Nurse Interface ---\n",
      "Welcome to the Nurse Interface\n",
      "1. Make New Patient\n",
      "2. View Patient Details\n",
      "3. Update Patient Details\n",
      "4. Display Nurse Details\n",
      "5. Logout\n"
     ]
    },
    {
     "name": "stdin",
     "output_type": "stream",
     "text": [
      "What would you like to do?\n",
      " 2\n"
     ]
    },
    {
     "name": "stdout",
     "output_type": "stream",
     "text": [
      "--- Patient Details ---\n"
     ]
    },
    {
     "name": "stdin",
     "output_type": "stream",
     "text": [
      "Enter Patient ID:  100\n"
     ]
    },
    {
     "name": "stdout",
     "output_type": "stream",
     "text": [
      "Name - VandenBrooks,Ian\n",
      "Age - 23\n",
      "Address - My house\n",
      "Admit Date -  4/17/25\n",
      "Billing Items -  12\n",
      "Line Item Costs - 13\n",
      "Total Bill -  25\n",
      "--------------------\n",
      "1. Make New Patient\n",
      "2. View Patient Details\n",
      "3. Update Patient Details\n",
      "4. Display Nurse Details\n",
      "5. Logout\n"
     ]
    },
    {
     "name": "stdin",
     "output_type": "stream",
     "text": [
      "What would you like to do?\n",
      " 5\n"
     ]
    },
    {
     "name": "stdout",
     "output_type": "stream",
     "text": [
      "--- Closing interface ---\n"
     ]
    }
   ],
   "source": [
    "Nurse.login_nurse()"
   ]
  }
 ],
 "metadata": {
  "kernelspec": {
   "display_name": "Python [conda env:base] *",
   "language": "python",
   "name": "conda-base-py"
  },
  "language_info": {
   "codemirror_mode": {
    "name": "ipython",
    "version": 3
   },
   "file_extension": ".py",
   "mimetype": "text/x-python",
   "name": "python",
   "nbconvert_exporter": "python",
   "pygments_lexer": "ipython3",
   "version": "3.12.7"
  }
 },
 "nbformat": 4,
 "nbformat_minor": 5
}
