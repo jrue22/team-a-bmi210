{
 "cells": [
  {
   "cell_type": "code",
   "execution_count": null,
   "id": "7923f5f4-4490-4080-bb25-e99d82084309",
   "metadata": {},
   "outputs": [],
   "source": [
    "\n"
   ]
  },
  {
   "cell_type": "code",
   "execution_count": 10,
   "id": "2e3c13a0-3bc5-41b0-b627-97af2e8f9eef",
   "metadata": {},
   "outputs": [
    {
     "name": "stdout",
     "output_type": "stream",
     "text": [
      "\n",
      "--- Hospital Information System ---\n",
      "1. Discharge Patient\n",
      "2. Exit System\n"
     ]
    },
    {
     "name": "stdin",
     "output_type": "stream",
     "text": [
      "Enter your choice (1 or 2):  1\n",
      "Enter patient ID to discharge:  P001\n"
     ]
    },
    {
     "name": "stdout",
     "output_type": "stream",
     "text": [
      "\n",
      "--- Discharge Summary ---\n",
      "Patient ID: P001\n",
      "Name: johnsmith\n",
      "Labs:\n",
      "  - Blood Test - $50\n",
      "  - X-Ray - $100\n",
      "Medications:\n",
      "  - Paracetamol - $10\n",
      "  - Antibiotic - $30\n",
      "Total Bill: $190\n",
      "--------------------------\n",
      "Patient johnsmith has been discharged and the record has been deleted.\n",
      "File saved as johnsmith_discharged.txt.\n",
      "\n",
      "--- Hospital Information System ---\n",
      "1. Discharge Patient\n",
      "2. Exit System\n"
     ]
    },
    {
     "name": "stdin",
     "output_type": "stream",
     "text": [
      "Enter your choice (1 or 2):  1\n",
      "Enter patient ID to discharge:  P002\n"
     ]
    },
    {
     "name": "stdout",
     "output_type": "stream",
     "text": [
      "\n",
      "--- Discharge Summary ---\n",
      "Patient ID: P002\n",
      "Name: janedoe\n",
      "Labs:\n",
      "  - MRI - $500\n",
      "Medications:\n",
      "  - Ibuprofen - $15\n",
      "Total Bill: $515\n",
      "--------------------------\n",
      "Patient janedoe has been discharged and the record has been deleted.\n",
      "File saved as janedoe_discharged.txt.\n",
      "\n",
      "--- Hospital Information System ---\n",
      "1. Discharge Patient\n",
      "2. Exit System\n"
     ]
    },
    {
     "name": "stdin",
     "output_type": "stream",
     "text": [
      "Enter your choice (1 or 2):  2\n"
     ]
    },
    {
     "name": "stdout",
     "output_type": "stream",
     "text": [
      "Exiting HIS. Bye bye! Keep up the amazing work! :)\n"
     ]
    },
    {
     "ename": "SystemExit",
     "evalue": "",
     "output_type": "error",
     "traceback": [
      "An exception has occurred, use %tb to see the full traceback.\n",
      "\u001b[1;31mSystemExit\u001b[0m\n"
     ]
    }
   ],
   "source": [
    "# Print Patientttt\n",
    "\n",
    "import sys\n",
    "\n",
    "# Simulated HIS records (normally this would be a database or persistent storage)\n",
    "his_records = {\n",
    "    \"P001\": {\n",
    "        \"name\": \"johnsmith\",\n",
    "        \"labs\": [\"Blood Test - $50\", \"X-Ray - $100\"],\n",
    "        \"medications\": [\"Paracetamol - $10\", \"Antibiotic - $30\"],\n",
    "        \"total_bill\": 190\n",
    "    },\n",
    "    \"P002\": {\n",
    "        \"name\": \"janedoe\",\n",
    "        \"labs\": [\"MRI - $500\"],\n",
    "        \"medications\": [\"Ibuprofen - $15\"],\n",
    "        \"total_bill\": 515\n",
    "    }\n",
    "}\n",
    "\n",
    "def discharge_patient(patient_id):\n",
    "    if patient_id not in his_records:\n",
    "        print(f\"No patient found with ID: {patient_id}\")\n",
    "        return\n",
    "\n",
    "    patient = his_records[patient_id]\n",
    "    filename = f\"{patient['name'].lower()}_discharged.txt\"\n",
    "\n",
    "    # Displaying details\n",
    "    print(\"\\n--- Discharge Summary ---\")\n",
    "    print(f\"Patient ID: {patient_id}\")\n",
    "    print(f\"Name: {patient['name']}\")\n",
    "    print(\"Labs:\")\n",
    "    for lab in patient[\"labs\"]:\n",
    "        print(f\"  - {lab}\")\n",
    "    print(\"Medications:\")\n",
    "    \n",
    "    for med in patient[\"medications\"]:\n",
    "        print(f\"  - {med}\")\n",
    "    print(f\"Total Bill: ${patient['total_bill']}\")\n",
    "    print(\"--------------------------\")\n",
    "\n",
    "    # Writing to file\n",
    "    with open(filename, 'w') as file:\n",
    "        file.write(f\"Patient ID: {patient_id}\\n\")\n",
    "        file.write(f\"Name: {patient['name']}\\n\")\n",
    "        file.write(\"Labs:\\n\")\n",
    "        for lab in patient[\"labs\"]:\n",
    "            file.write(f\"  - {lab}\\n\")\n",
    "        file.write(\"Medications:\\n\")\n",
    "        for med in patient[\"medications\"]:\n",
    "            file.write(f\"  - {med}\\n\")\n",
    "        file.write(f\"Total Bill: ${patient['total_bill']}\\n\")\n",
    "\n",
    "    # Deleting patient record\n",
    "    del his_records[patient_id]\n",
    "    print(f\"Patient {patient['name']} has been discharged and the record has been deleted.\\nFile saved as {filename}.\")\n",
    "\n",
    "def exit_system():\n",
    "    print(\"Exiting HIS. Bye bye! Keep up the amazing work! :)\")\n",
    "    sys.exit()\n",
    "\n",
    "def main():\n",
    "    while True:\n",
    "        print(\"\\n--- Hospital Information System ---\")\n",
    "        print(\"1. Discharge Patient\")\n",
    "        print(\"2. Exit System\")\n",
    "        choice = input(\"Enter your choice (1 or 2): \")\n",
    "\n",
    "        if choice == \"1\":\n",
    "            patient_id = input(\"Enter patient ID to discharge: \").strip()\n",
    "            discharge_patient(patient_id)\n",
    "        elif choice == \"2\":\n",
    "            exit_system()\n",
    "        else:\n",
    "            print(\"Invalid option. Please try again.\")\n",
    "\n",
    "if __name__ == \"__main__\":\n",
    "    main()\n"
   ]
  },
  {
   "cell_type": "code",
   "execution_count": 11,
   "id": "d2609333-76ef-46a2-9c7b-f7a387c2c18a",
   "metadata": {},
   "outputs": [
    {
     "name": "stdout",
     "output_type": "stream",
     "text": [
      "--- The Discharge Module ---\n"
     ]
    },
    {
     "name": "stdin",
     "output_type": "stream",
     "text": [
      "Enter patient ID to discharge or type 'exit' to quit:  P001\n"
     ]
    },
    {
     "name": "stdout",
     "output_type": "stream",
     "text": [
      "Patient ID: P001\n",
      "Name: johnsmith\n",
      "\n",
      "Labs:\n",
      "Blood Test - $50\n",
      "X-Ray - $100\n",
      "\n",
      "Medications:\n",
      "Paracetamol - $10\n",
      "Antibiotic - $30\n",
      "\n",
      "Total Bill: $190\n",
      "\n",
      "Discharge details written to johnsmith_discharged.txt\n",
      "Patient record deleted from HIS.\n",
      "\n",
      "--- The Discharge Module ---\n"
     ]
    },
    {
     "name": "stdin",
     "output_type": "stream",
     "text": [
      "Enter patient ID to discharge or type 'exit' to quit:  P002\n"
     ]
    },
    {
     "name": "stdout",
     "output_type": "stream",
     "text": [
      "Patient ID: P002\n",
      "Name: janedoe\n",
      "\n",
      "Labs:\n",
      "MRI - $500\n",
      "\n",
      "Medications:\n",
      "Ibuprofen - $15\n",
      "\n",
      "Total Bill: $515\n",
      "\n",
      "Discharge details written to janedoe_discharged.txt\n",
      "Patient record deleted from HIS.\n",
      "\n",
      "--- The Discharge Module ---\n"
     ]
    },
    {
     "name": "stdin",
     "output_type": "stream",
     "text": [
      "Enter patient ID to discharge or type 'exit' to quit:  exit\n"
     ]
    },
    {
     "name": "stdout",
     "output_type": "stream",
     "text": [
      "Exiting HIS. Bye bye! Keep up the amazing work! :)\n"
     ]
    },
    {
     "ename": "SystemExit",
     "evalue": "",
     "output_type": "error",
     "traceback": [
      "An exception has occurred, use %tb to see the full traceback.\n",
      "\u001b[1;31mSystemExit\u001b[0m\n"
     ]
    }
   ],
   "source": [
    "# Discharge Moduleeee\n",
    "\n",
    "\n",
    "# Simulated HIS database\n",
    "his_records = {\n",
    "    \"P001\": {\n",
    "        \"name\": \"johnsmith\",\n",
    "        \"labs\": [\"Blood Test - $50\", \"X-Ray - $100\"],\n",
    "        \"medications\": [\"Paracetamol - $10\", \"Antibiotic - $30\"],\n",
    "        \"total_bill\": 190\n",
    "    },\n",
    "    \"P002\": {\n",
    "        \"name\": \"janedoe\",\n",
    "        \"labs\": [\"MRI - $500\"],\n",
    "        \"medications\": [\"Ibuprofen - $15\"],\n",
    "        \"total_bill\": 515\n",
    "    }\n",
    "}\n",
    "\n",
    "def display_and_discharge(patient_id):\n",
    "    patient = his_records.get(patient_id)\n",
    "    if not patient:\n",
    "        print(\"Patient record not found.\")\n",
    "        return\n",
    "\n",
    "    # Format discharge \n",
    "    details = f\"Patient ID: {patient_id}\\n\"\n",
    "    details += f\"Name: {patient['name']}\\n\\n\"\n",
    "    details += \"Labs:\\n\" + \"\\n\".join(patient[\"labs\"]) + \"\\n\" + \"\\n\"\n",
    "    details += \"Medications:\\n\" + \"\\n\".join(patient[\"medications\"]) + \"\\n\" + \"\\n\"\n",
    "    details += f\"Total Bill: ${patient['total_bill']}\\n\"\n",
    "\n",
    "    # Print on screen\n",
    "    print(details)\n",
    "\n",
    "    # Write to file\n",
    "    filename = patient['name'].replace(\" \", \"\").lower() + \"_discharged.txt\"\n",
    "    with open(filename, \"w\") as file:\n",
    "        file.write(details)\n",
    "    print(f\"Discharge details written to {filename}\")\n",
    "\n",
    "    # Delete patient record\n",
    "    del his_records[patient_id]\n",
    "    print(\"Patient record deleted from HIS.\\n\")\n",
    "\n",
    "def main():\n",
    "    while True:\n",
    "        print(\"--- The Discharge Module ---\")\n",
    "        command = input(\"Enter patient ID to discharge or type 'exit' to quit: \").strip()\n",
    "        if command.lower() == 'exit':\n",
    "            print(\"Exiting HIS. Bye bye! Keep up the amazing work! :)\")\n",
    "            sys.exit()\n",
    "        else:\n",
    "            display_and_discharge(command)\n",
    "\n",
    "if __name__ == \"__main__\":\n",
    "    main()\n",
    "\n"
   ]
  }
 ],
 "metadata": {
  "kernelspec": {
   "display_name": "Python 3 (ipykernel)",
   "language": "python",
   "name": "python3"
  },
  "language_info": {
   "codemirror_mode": {
    "name": "ipython",
    "version": 3
   },
   "file_extension": ".py",
   "mimetype": "text/x-python",
   "name": "python",
   "nbconvert_exporter": "python",
   "pygments_lexer": "ipython3",
   "version": "3.12.7"
  }
 },
 "nbformat": 4,
 "nbformat_minor": 5
}
