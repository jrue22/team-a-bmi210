{
 "cells": [
  {
   "cell_type": "code",
   "execution_count": 507,
   "id": "d0b3d276-154d-499b-8f5b-33c725ce9f8b",
   "metadata": {},
   "outputs": [],
   "source": [
    "patient_dict= {}\n",
    "\n",
    "class Patient:\n",
    "    def __init__(self, patient_id, first_name, last_name, age, address, admit_date, billing_items, line_item_costs):\n",
    "        self.patient_id = patient_id\n",
    "        self.first_name = first_name\n",
    "        self.last_name = last_name\n",
    "        self.__age = age \n",
    "        self.address = address\n",
    "        self.admit_date = admit_date\n",
    "        self.billing_items = billing_items\n",
    "        self.line_item_costs = line_item_costs\n",
    "        self.total_bill = billing_items + line_item_costs\n",
    "\n",
    "    def get_age(self):\n",
    "        return self.__age\n",
    "\n",
    "    def to_string(self):\n",
    "        return f\"{self.patient_id}, {self.first_name}, {self.last_name}, {self.__age}, {self.address}, {self.admit_date}, {self.billing_items}, {self.line_item_costs}, {self.total_bill}\"\n",
    "\n",
    "def new_patient():\n",
    "    patient_id = int(input(\"Patient ID: \"))\n",
    "    first_name = input(\"First Name: \")\n",
    "    last_name = input(\"Last Name: \")\n",
    "    age = input(\"Age: \")\n",
    "    address = input(\"Address: \")\n",
    "    admit_date = input(\"Admit Date: \")\n",
    "    billing_items = int(input(\"Billing Items: \"))\n",
    "    line_item_costs = int(input(\"Line Item Costs: \"))\n",
    "    patient_dict[patient_id] = Patient(patient_id, first_name, last_name, age, address, admit_date, billing_items, line_item_costs)\n",
    "    \n",
    "    with open(\"patients.txt\", \"a\") as file:\n",
    "        file.write(Patient.to_string(patient_dict[patient_id]) + \"\\n\")\n",
    "    \n",
    "    print(f\"Patient {first_name} {last_name} has been stored in the file.\")\n",
    "\n",
    "            \n",
    "def change_patient_info():\n",
    "    patient_needing_updated_info = int(input(\"Enter Patient ID for update: \"))\n",
    "    if patient_needing_updated_info in patient_dict:\n",
    "        info_needing_update = int(input(f\"\"\" \n",
    "What info needs to be updated:\n",
    "1. First Name\n",
    "2. Last Name\n",
    "3. Age\n",
    "4. Address\n",
    "5. Admit Date\n",
    "\"\"\"))\n",
    "\n",
    "        if info_needing_update == 1:\n",
    "            new_first_name = input(\"Enter new First Name: \")\n",
    "            patient_dict[patient_needing_updated_info].first_name = new_first_name\n",
    "        elif info_needing_update == 2:\n",
    "            new_last_name = input(\"Enter new Last Name: \")\n",
    "            patient_dict[patient_needing_updated_info].last_name = new_last_name\n",
    "        elif info_needing_update == 3:\n",
    "            new_age = input(\"Enter new Age: \")\n",
    "            patient_dict[patient_needing_updated_info].__age = new_age  \n",
    "        elif info_needing_update == 4:\n",
    "            new_address = input(\"Enter new Address: \")\n",
    "            patient_dict[patient_needing_updated_info].address = new_address\n",
    "        elif info_needing_update == 5:\n",
    "            new_admit_date = input(\"Enter new Admit Date: \")\n",
    "            patient_dict[patient_needing_updated_info].admit_date = new_admit_date\n",
    "        else:\n",
    "            print(\"Invalid choice\")\n",
    "        \n",
    "        print(f\"Patient info updated\")\n",
    "        \n",
    "        with open(\"patients.txt\", \"w\") as file:\n",
    "            for i in patient_dict.values():\n",
    "                file.write(i.to_string() + \"\\n\")\n",
    "    else:\n",
    "        print(\"No patient found with that ID.\")\n",
    "\n",
    "def display_info_for_patient_view():\n",
    "    id_input = int(input(\"Patient_ID: \"))\n",
    "    active_user = patient_dict[id_input]\n",
    "    info = active_user.to_string().split()\n",
    "    first_name = info[1]\n",
    "    last_name = info[2]\n",
    "    print(f\"\"\"\n",
    "Name: {first_name[0]}***** {last_name[0]}******\n",
    "Billing Items: {active_user.billing_items}\n",
    "Line Item Costs: {active_user.line_item_costs}\n",
    "Total Bill: {active_user.total_bill}\n",
    "\"\"\")\n",
    "def display_patient():\n",
    "    id_input = int(input(\"Patient_ID: \"))\n",
    "    active_user = patient_dict[id_input]\n",
    "    print(active_user.to_string())"
   ]
  },
  {
   "cell_type": "code",
   "execution_count": 509,
   "id": "969437a8-e741-40c0-ae2a-4e15cc6df442",
   "metadata": {},
   "outputs": [
    {
     "name": "stdin",
     "output_type": "stream",
     "text": [
      "Patient ID:  1\n",
      "First Name:  1\n",
      "Last Name:  1\n",
      "Age:  1\n",
      "Address:  1\n",
      "Admit Date:  1\n",
      "Billing Items:  1\n",
      "Line Item Costs:  1\n"
     ]
    },
    {
     "name": "stdout",
     "output_type": "stream",
     "text": [
      "Patient 1 1 has been stored in the file.\n"
     ]
    }
   ],
   "source": [
    "new_patient()"
   ]
  },
  {
   "cell_type": "code",
   "execution_count": 511,
   "id": "3cbbd5d9-b0eb-4972-9c3f-91ac2fe76efb",
   "metadata": {},
   "outputs": [
    {
     "name": "stdin",
     "output_type": "stream",
     "text": [
      "Enter Patient ID for update:  1\n",
      " \n",
      "What info needs to be updated:\n",
      "1. First Name\n",
      "2. Last Name\n",
      "3. Age\n",
      "4. Address\n",
      "5. Admit Date\n",
      " 2\n",
      "Enter new Last Name:  dog\n"
     ]
    },
    {
     "name": "stdout",
     "output_type": "stream",
     "text": [
      "Patient info updated\n"
     ]
    }
   ],
   "source": [
    "change_patient_info()"
   ]
  },
  {
   "cell_type": "code",
   "execution_count": 513,
   "id": "9f0698c6-a9bc-4a83-b79b-80717c469b5f",
   "metadata": {},
   "outputs": [
    {
     "name": "stdin",
     "output_type": "stream",
     "text": [
      "Patient_ID:  1\n"
     ]
    },
    {
     "name": "stdout",
     "output_type": "stream",
     "text": [
      "1, 1, dog, 1, 1, 1, 1, 1, 2\n"
     ]
    }
   ],
   "source": [
    "display_patient()"
   ]
  },
  {
   "cell_type": "code",
   "execution_count": null,
   "id": "69a8520d-b4e4-4e27-ab7d-ba45baf86267",
   "metadata": {},
   "outputs": [],
   "source": []
  }
 ],
 "metadata": {
  "kernelspec": {
   "display_name": "Python [conda env:base] *",
   "language": "python",
   "name": "conda-base-py"
  },
  "language_info": {
   "codemirror_mode": {
    "name": "ipython",
    "version": 3
   },
   "file_extension": ".py",
   "mimetype": "text/x-python",
   "name": "python",
   "nbconvert_exporter": "python",
   "pygments_lexer": "ipython3",
   "version": "3.12.7"
  }
 },
 "nbformat": 4,
 "nbformat_minor": 5
}
