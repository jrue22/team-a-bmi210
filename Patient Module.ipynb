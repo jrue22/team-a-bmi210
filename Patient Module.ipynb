{
 "cells": [
  {
   "cell_type": "code",
   "execution_count": 199,
   "id": "995c3dde-6e1c-4d4b-85be-56c88d74feb1",
   "metadata": {},
   "outputs": [
    {
     "name": "stdout",
     "output_type": "stream",
     "text": [
      "S***** N*****\n",
      "C***** D*****\n"
     ]
    }
   ],
   "source": [
    "class Patient:\n",
    "    def __init__(self, patient_id, first_name, last_name, age, address, admit_date, billing_items, line_item_costs):\n",
    "        self.patient_id = patient_id\n",
    "        self.first_name = first_name\n",
    "        self.last_name = last_name\n",
    "        self.__age = age \n",
    "        self.address = address\n",
    "        self.admit_date = admit_date\n",
    "        self.billing_items = billing_items\n",
    "        self.line_item_costs = line_item_costs\n",
    "        self.total_bill = billing_items + line_item_costs\n",
    "\n",
    "    def get_age(self):\n",
    "        return self.__age\n",
    "\n",
    "    def to_string(self):\n",
    "        return f\"{self.patient_id}, {self.first_name}, {self.last_name}, {self.__age}, {self.address}, {self.admit_date}, {self.billing_items}, {self.line_item_costs}, {self.total_bill}\"\n",
    "\n",
    "def new_patient():\n",
    "    patient_id = input(\"Patient ID: \")\n",
    "    first_name = input(\"First Name: \")\n",
    "    last_name = input(\"Last Name: \")\n",
    "    age = input(\"Age: \")\n",
    "    address = input(\"Address: \")\n",
    "    admit_date = input(\"Admit Date: \")\n",
    "    billing_items = int(input(\"Billing Items: \"))\n",
    "    line_item_costs = int(input(\"Line Item Costs: \"))\n",
    "    patient = Patient(patient_id, first_name, last_name, age, address, admit_date, billing_items, line_item_costs)\n",
    "\n",
    "    with open(\"patients.txt\", \"a\") as file:\n",
    "        file.write(patient.to_string() + \"\\n\")\n",
    "    \n",
    "    print(f\"Patient {first_name} {last_name} has been stored in the file.\")\n",
    "\n",
    "with open('patients.txt', 'r') as fin:\n",
    "    patients = fin.readlines()\n",
    "    for i in patients:\n",
    "        patient_data = list(i.strip().split(','))\n",
    "        first_name = patient_data[1].strip()\n",
    "        last_name = patient_data[2].strip()\n",
    "        print(f'{first_name[0]}***** {last_name[0]}*****')"
   ]
  },
  {
   "cell_type": "code",
   "execution_count": null,
   "id": "a620afba-af08-416e-ba1f-b3df84bb7b46",
   "metadata": {},
   "outputs": [],
   "source": []
  }
 ],
 "metadata": {
  "kernelspec": {
   "display_name": "Python [conda env:base] *",
   "language": "python",
   "name": "conda-base-py"
  },
  "language_info": {
   "codemirror_mode": {
    "name": "ipython",
    "version": 3
   },
   "file_extension": ".py",
   "mimetype": "text/x-python",
   "name": "python",
   "nbconvert_exporter": "python",
   "pygments_lexer": "ipython3",
   "version": "3.12.7"
  }
 },
 "nbformat": 4,
 "nbformat_minor": 5
}
