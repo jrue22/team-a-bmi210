{
 "cells": [
  {
   "cell_type": "code",
   "execution_count": 77,
   "id": "d0b3d276-154d-499b-8f5b-33c725ce9f8b",
   "metadata": {},
   "outputs": [],
   "source": [
    "patient_dict= {}\n",
    "\n",
    "class Patient:\n",
    "    def __init__(self, patient_id, first_name, last_name, age, address, admit_date, billing_items, line_item_costs):\n",
    "        self.patient_id = patient_id\n",
    "        self.first_name = first_name\n",
    "        self.last_name = last_name\n",
    "        self.__age = age \n",
    "        self.address = address\n",
    "        self.admit_date = admit_date\n",
    "        self.billing_items = billing_items\n",
    "        self.line_item_costs = line_item_costs\n",
    "        self.total_bill = billing_items + line_item_costs\n",
    "\n",
    "    def get_age(self):\n",
    "        return self.__age\n",
    "\n",
    "    def to_string(self):\n",
    "        return f\"{self.patient_id}, {self.first_name}, {self.last_name}, {self.__age}, {self.address}, {self.admit_date}, {self.billing_items}, {self.line_item_costs}, {self.total_bill}\"\n",
    "\n",
    "def new_patient():\n",
    "    patient_id = int(input(\"Patient ID: \"))\n",
    "    first_name = input(\"First Name: \")\n",
    "    last_name = input(\"Last Name: \")\n",
    "    age = input(\"Age: \")\n",
    "    address = input(\"Address: \")\n",
    "    admit_date = input(\"Admit Date: \")\n",
    "    billing_items = int(input(\"Billing Items: \"))\n",
    "    line_item_costs = int(input(\"Line Item Costs: \"))\n",
    "    patient_dict[patient_id] = Patient(patient_id, first_name, last_name, age, address, admit_date, billing_items, line_item_costs)\n",
    "\n",
    "    with open(\"patients.txt\", \"a\") as file:\n",
    "        file.write(Patient.to_string(patient_dict[patient_id]) + \"\\n\")\n",
    "    \n",
    "    print(f\"Patient {first_name} {last_name} has been stored in the file.\")\n",
    "\n",
    "def display_info_for_patient_view():\n",
    "    id_input = int(input(\"Patient_ID: \"))\n",
    "    active_user = patient_dict[id_input]\n",
    "    info = active_user.to_string().split()\n",
    "    first_name = info[1]\n",
    "    last_name = info[2]\n",
    "    print(f\"\"\"\n",
    "Name: {first_name[0]}***** {last_name[0]}******\n",
    "Billing Items: {active_user.billing_items}\n",
    "Line Item Costs: {active_user.line_item_costs}\n",
    "Total Bill: {active_user.total_bill}\n",
    "\"\"\")\n",
    "\n",
    "def display_patient():\n",
    "    id_input = int(input(\"Patient_ID: \"))\n",
    "    active_user = patient_dict[id_input]\n",
    "    print(active_user.to_string())"
   ]
  }
 ],
 "metadata": {
  "kernelspec": {
   "display_name": "Python [conda env:base] *",
   "language": "python",
   "name": "conda-base-py"
  },
  "language_info": {
   "codemirror_mode": {
    "name": "ipython",
    "version": 3
   },
   "file_extension": ".py",
   "mimetype": "text/x-python",
   "name": "python",
   "nbconvert_exporter": "python",
   "pygments_lexer": "ipython3",
   "version": "3.12.7"
  }
 },
 "nbformat": 4,
 "nbformat_minor": 5
}
