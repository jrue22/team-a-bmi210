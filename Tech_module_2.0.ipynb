{
 "cells": [
  {
   "cell_type": "code",
   "execution_count": 14,
   "id": "435b220c-9952-479b-9dfe-d562a5cada50",
   "metadata": {},
   "outputs": [
    {
     "ename": "NameError",
     "evalue": "name 'Patient' is not defined",
     "output_type": "error",
     "traceback": [
      "\u001b[1;31m---------------------------------------------------------------------------\u001b[0m",
      "\u001b[1;31mNameError\u001b[0m                                 Traceback (most recent call last)",
      "Cell \u001b[1;32mIn[14], line 8\u001b[0m\n\u001b[0;32m      6\u001b[0m doctor_dict \u001b[38;5;241m=\u001b[39m {}\n\u001b[0;32m      7\u001b[0m labtech_dict \u001b[38;5;241m=\u001b[39m {} \u001b[38;5;66;03m## new add so doctors can create any lab techs\u001b[39;00m\n\u001b[1;32m----> 8\u001b[0m patient_dict[\u001b[38;5;124m\"\u001b[39m\u001b[38;5;124m0001\u001b[39m\u001b[38;5;124m\"\u001b[39m] \u001b[38;5;241m=\u001b[39m Patient(\u001b[38;5;124m\"\u001b[39m\u001b[38;5;124m0001\u001b[39m\u001b[38;5;124m\"\u001b[39m, \u001b[38;5;124m\"\u001b[39m\u001b[38;5;124mStefan\u001b[39m\u001b[38;5;124m\"\u001b[39m, \u001b[38;5;124m\"\u001b[39m\u001b[38;5;124mNguyen\u001b[39m\u001b[38;5;124m\"\u001b[39m, \u001b[38;5;124m\"\u001b[39m\u001b[38;5;124m12\u001b[39m\u001b[38;5;124m\"\u001b[39m, \u001b[38;5;124m\"\u001b[39m\u001b[38;5;124mHell Ave\u001b[39m\u001b[38;5;124m\"\u001b[39m, \u001b[38;5;124m\"\u001b[39m\u001b[38;5;124m04/20/2025\u001b[39m\u001b[38;5;124m\"\u001b[39m, [\u001b[38;5;124m\"\u001b[39m\u001b[38;5;124mcatheter\u001b[39m\u001b[38;5;124m\"\u001b[39m, \u001b[38;5;124m\"\u001b[39m\u001b[38;5;124mrectal implant\u001b[39m\u001b[38;5;124m\"\u001b[39m])\n\u001b[0;32m      9\u001b[0m nurse_dict[\u001b[38;5;124m\"\u001b[39m\u001b[38;5;124mnurse1\u001b[39m\u001b[38;5;124m\"\u001b[39m] \u001b[38;5;241m=\u001b[39m Nurse(\u001b[38;5;124m'\u001b[39m\u001b[38;5;124mnurse1\u001b[39m\u001b[38;5;124m'\u001b[39m, \u001b[38;5;124m'\u001b[39m\u001b[38;5;124mpassword\u001b[39m\u001b[38;5;124m'\u001b[39m, \u001b[38;5;124m'\u001b[39m\u001b[38;5;124mSasha\u001b[39m\u001b[38;5;124m'\u001b[39m, \u001b[38;5;124m'\u001b[39m\u001b[38;5;124mPatschke\u001b[39m\u001b[38;5;124m'\u001b[39m, \u001b[38;5;241m1\u001b[39m)\n\u001b[0;32m     10\u001b[0m doctor_dict[\u001b[38;5;124m\"\u001b[39m\u001b[38;5;124m0001\u001b[39m\u001b[38;5;124m\"\u001b[39m] \u001b[38;5;241m=\u001b[39m Doctor(\u001b[38;5;124m\"\u001b[39m\u001b[38;5;124m0001\u001b[39m\u001b[38;5;124m\"\u001b[39m, \u001b[38;5;124m\"\u001b[39m\u001b[38;5;124mPassword1\u001b[39m\u001b[38;5;124m\"\u001b[39m, \u001b[38;5;124m\"\u001b[39m\u001b[38;5;124mDrew\u001b[39m\u001b[38;5;124m\"\u001b[39m, \u001b[38;5;124m\"\u001b[39m\u001b[38;5;124mGordon\u001b[39m\u001b[38;5;124m\"\u001b[39m, \u001b[38;5;124m\"\u001b[39m\u001b[38;5;124mFamily Medicine\u001b[39m\u001b[38;5;124m\"\u001b[39m, \u001b[38;5;124m\"\u001b[39m\u001b[38;5;124m5127814115\u001b[39m\u001b[38;5;124m\"\u001b[39m)\n",
      "\u001b[1;31mNameError\u001b[0m: name 'Patient' is not defined"
     ]
    }
   ],
   "source": [
    "#Dictionaries\n",
    "#These are the dicts for accounts already existing in the system, and a few that are pulled from during functions.\n",
    "\n",
    "item_costs_dict = {\"room\": 175, \"gauze\": 25, \"consultation\": 400, \"catheter\": 115}\n",
    "patient_dict = {}\n",
    "nurse_dict = {}\n",
    "doctor_dict = {}\n",
    "labtech_dict = {} ## new add so doctors can create any lab techs\n",
    "patient_dict[\"0001\"] = Patient(\"0001\", \"Stefan\", \"Nguyen\", \"12\", \"Hell Ave\", \"04/20/2025\", [\"catheter\", \"rectal implant\"])\n",
    "nurse_dict[\"nurse1\"] = Nurse('nurse1', 'password', 'Sasha', 'Patschke', 1)\n",
    "doctor_dict[\"0001\"] = Doctor(\"0001\", \"Password1\", \"Drew\", \"Gordon\", \"Family Medicine\", \"5127814115\")\n",
    "labtech_dict[\"tech1\"] = {\"password\": \"passtech1\", \"first_name\": \"Ari\", \"last_name\": \"Rez\"} # added change here\n",
    "\n",
    "\n",
    "# TRY TO ADD A OPTION FOR DOCTOR TO MAKE LAB TECH USERS\n",
    "\n",
    "# FEEL FREE TO CHANGE ANY CODE TO MAKE THE CODE WORK "
   ]
  },
  {
   "cell_type": "code",
   "execution_count": 20,
   "id": "02b4a166-6630-4c6d-8a1b-fa785f243b2f",
   "metadata": {},
   "outputs": [
    {
     "name": "stdout",
     "output_type": "stream",
     "text": [
      "\n",
      "--- Lab Technician Login ---\n"
     ]
    },
    {
     "name": "stdin",
     "output_type": "stream",
     "text": [
      "User ID:  tech1\n",
      "Password:  passtech1\n"
     ]
    },
    {
     "name": "stdout",
     "output_type": "stream",
     "text": [
      "Login failed. Try again.\n"
     ]
    }
   ],
   "source": [
    "# Lab Tech Module\n",
    "\n",
    "\n",
    "class LabTechnician:\n",
    "   \n",
    "    def __init__(self, user_id, password, first_name, last_name):\n",
    "        self.user_id = user_id\n",
    "        self.password = password\n",
    "        self.first_name = first_name\n",
    "        self.last_name = last_name\n",
    "        self.current_user = None\n",
    "\n",
    "    # Login added \n",
    "    def login(self):\n",
    "        print(\"\\n--- Lab Technician Login ---\")\n",
    "        user_id = input(\"User ID: \")\n",
    "        password = input(\"Password: \")\n",
    "       \n",
    "        # lab tech user login\n",
    "        if user_id in labtech_dict:\n",
    "            if labtech_dict[user_id][\"password\"] == password:\n",
    "                print(f\"Login successful. Welcome {labtech_dict[user_id]['first_name']}!\")\n",
    "                self.current_user = user_id\n",
    "                self.lab_menu()\n",
    "                return\n",
    "        print(\"Login failed. Try again.\")\n",
    "\n",
    "   \n",
    "    # main menu for lab tech module.\n",
    "    def lab_menu(self):\n",
    "        while True:\n",
    "            print(\"\\n--- Lab Technician Menu ---\")\n",
    "            print(\"1. View Assigned Lab Tests\")\n",
    "            print(\"2. Edit Lab Test Info\")\n",
    "            print(\"3. Return to Main Menu\")\n",
    "            selected_choice = input(\"Select an option: \")\n",
    "\n",
    "            if selected_choice == \"1\":\n",
    "                self.view_assigned_labs()\n",
    "            elif selected_choice == \"2\":\n",
    "                self.edit_lab_test()\n",
    "            elif selected_choice == \"3\":\n",
    "                print(\"Returning to main menu...\")\n",
    "                break\n",
    "            else:\n",
    "                print(\"Invalid choice. Try again.\")\n",
    "   \n",
    "    def view_assigned_labs(self):\n",
    "        # views labs for the specific patient by their ID.\n",
    "        try:\n",
    "            pid = input(\"Enter Patient ID: \")\n",
    "            if pid in patient_dict:\n",
    "                patient = patient_dict[pid]\n",
    "                print(f\"\\nPatient: {patient.first_name} {patient.last_name}\")\n",
    "                for key, value in patient.line_item_costs.items():\n",
    "                    print(f\"   {key.title()} - ${value}\")\n",
    "                if patient.labs:\n",
    "                    for item in patient.labs:\n",
    "                        print(\"   Lab Tests\")\n",
    "                        print(f\"      {item}\")\n",
    "                        print(f\"   Lab Total - ${patient.lab_total}\")\n",
    "                print(f\"Total Bill: ${patient.total_bill}\")\n",
    "            else:\n",
    "                print(\"Patient not found.\")\n",
    "        except Exception as e:\n",
    "            print(f\"Error: {e}\")\n",
    "\n",
    "    def edit_lab_test(self):\n",
    "        try:\n",
    "            pid = input(\"Enter Patient ID to edit lab info: \")\n",
    "            if pid in patient_dict:\n",
    "                patient = patient_dict[pid]\n",
    "                print(f\"\\nCurrent Lab Info for {patient.first_name} {patient.last_name}:\")\n",
    "                for key, value in patient.line_item_costs.items():\n",
    "                    print(f\"   {key.title()} - ${value}\")\n",
    "                if patient.labs:\n",
    "                    for item in patient.labs:\n",
    "                        print(\"   Lab Tests\")\n",
    "                        print(f\"      {item}\")\n",
    "                        print(f\"   Lab Total - ${patient.lab_total}\")\n",
    "\n",
    "                new_items = input(\"Enter new Assigned lab name (comma-separated): \")\n",
    "                new_cost = int(input(\"Enter new Assigned lab cost: \"))\n",
    "\n",
    "                # updates bill patient info\n",
    "                # patient.billing_items = new_items\n",
    "                # patient.line_item_costs = new_cost\n",
    "                # patient.total_bill = new_cost + (patient.total_bill - patient.line_item_costs)\n",
    "                \n",
    "                ## this part should overwrites the cost in the lab tests instead \n",
    "                patient.labs = [lab.strip() for lab in new_items.split(\",\")]\n",
    "                patient.line_item_costs[\"lab_test\"] = new_cost\n",
    "                patient.lab_total = new_cost\n",
    "                patient.total_bill = sum(patient.line_item_costs.values())\n",
    "\n",
    "                # Save updates to file\n",
    "                with open(\"patients.txt\", \"w\") as file:\n",
    "                    for p in patient_dict.values():\n",
    "                        file.write(p.to_string() + \"\\n\")\n",
    "\n",
    "        except Exception as e:\n",
    "            print(f\"Error: {e}\")\n",
    "\n",
    "lab_tech = LabTechnician(\"tech1\", \"passtech1\", \"Ari\", \"Rez\")\n",
    "lab_tech.login()"
   ]
  },
  {
   "cell_type": "code",
   "execution_count": 22,
   "id": "55ea0b3e-fb8d-4776-89d5-36266e9e68ea",
   "metadata": {},
   "outputs": [
    {
     "ename": "SyntaxError",
     "evalue": "invalid syntax (773303619.py, line 7)",
     "output_type": "error",
     "traceback": [
      "\u001b[1;36m  Cell \u001b[1;32mIn[22], line 7\u001b[1;36m\u001b[0m\n\u001b[1;33m    elif main_input == \"4\":\u001b[0m\n\u001b[1;37m    ^\u001b[0m\n\u001b[1;31mSyntaxError\u001b[0m\u001b[1;31m:\u001b[0m invalid syntax\n"
     ]
    }
   ],
   "source": [
    "\n",
    "\n",
    "\n",
    "# Suggestion on main menu module\n",
    "\n",
    "\n",
    "# put this so when entered 4... it should take to lab tech login screen and once logined in allows the the rest to work.... hopefully....\n",
    "\n",
    "\n",
    "elif main_input == \"4\":\n",
    "    lab_tech = LabTechnician() # hopefully this works on yalls side sometimes mine dosen't work if i do all code on my laptop....\n",
    "    lab_tech.login()"
   ]
  },
  {
   "cell_type": "code",
   "execution_count": null,
   "id": "58d5f49b-c306-4455-9620-99985607cea8",
   "metadata": {},
   "outputs": [],
   "source": []
  }
 ],
 "metadata": {
  "kernelspec": {
   "display_name": "Python [conda env:base] *",
   "language": "python",
   "name": "conda-base-py"
  },
  "language_info": {
   "codemirror_mode": {
    "name": "ipython",
    "version": 3
   },
   "file_extension": ".py",
   "mimetype": "text/x-python",
   "name": "python",
   "nbconvert_exporter": "python",
   "pygments_lexer": "ipython3",
   "version": "3.12.7"
  }
 },
 "nbformat": 4,
 "nbformat_minor": 5
}
