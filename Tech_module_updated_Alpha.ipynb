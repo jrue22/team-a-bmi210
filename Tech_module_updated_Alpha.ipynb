{
 "cells": [
  {
   "cell_type": "code",
   "execution_count": 12,
   "id": "83fa1b69-0de5-4ead-8efd-a255ed992832",
   "metadata": {},
   "outputs": [
    {
     "name": "stdout",
     "output_type": "stream",
     "text": [
      "\n",
      "--- Lab Technician Menu ---\n",
      "1. View Assigned Lab Tests\n",
      "2. Edit Lab Test Info\n",
      "3. Exit\n"
     ]
    },
    {
     "name": "stdin",
     "output_type": "stream",
     "text": [
      "Select an option:  1\n",
      "Enter Patient ID:  1243\n"
     ]
    },
    {
     "name": "stdout",
     "output_type": "stream",
     "text": [
      "Error: name 'patient_dict' is not defined\n",
      "\n",
      "--- Lab Technician Menu ---\n",
      "1. View Assigned Lab Tests\n",
      "2. Edit Lab Test Info\n",
      "3. Exit\n"
     ]
    },
    {
     "name": "stdin",
     "output_type": "stream",
     "text": [
      "Select an option:  2\n",
      "Enter Patient ID to edit lab info:  124\n"
     ]
    },
    {
     "name": "stdout",
     "output_type": "stream",
     "text": [
      "Error: name 'patient_dict' is not defined\n",
      "\n",
      "--- Lab Technician Menu ---\n",
      "1. View Assigned Lab Tests\n",
      "2. Edit Lab Test Info\n",
      "3. Exit\n"
     ]
    },
    {
     "name": "stdin",
     "output_type": "stream",
     "text": [
      "Select an option:  3\n"
     ]
    },
    {
     "name": "stdout",
     "output_type": "stream",
     "text": [
      "Exiting Lab Technician Menu...\n"
     ]
    }
   ],
   "source": [
    "# UPDATED THE CODE BASED ON THE VARIABLES ON PATIENT MODULE.... \n",
    "# Also will proably change more code on final version like to only be able to view the ones doctor approeved or something like that idk..\n",
    "\n",
    "\n",
    "# class LabTechnician:\n",
    "def __init__(self):\n",
    "    pass\n",
    "\n",
    "    # main menu for lab tech module.\n",
    "    def lab_menu(self):\n",
    "        while True:\n",
    "            print(\"\\n--- Lab Technician Menu ---\")\n",
    "            print(\"1. View Assigned Lab Tests\")\n",
    "            print(\"2. Edit Lab Test Info\")\n",
    "            print(\"3. Exit\") # might change to go back menu on final version of code.\n",
    "            selected_choice = input(\"Select an option: \")\n",
    "\n",
    "            if selected_choice == \"1\":\n",
    "                self.view_assigned_labs()\n",
    "            elif selected_choice == \"2\":\n",
    "                self.edit_lab_test()\n",
    "            elif selected_choice == \"3\":\n",
    "                print(\"Exiting Lab Technician Menu...\")\n",
    "                break\n",
    "            else:\n",
    "                print(\"Invalid choice. Try again.\")\n",
    "\n",
    "    def view_assigned_labs(self):\n",
    "        # views labs for the specific patient by their ID.\n",
    "        try:\n",
    "            pid = int(input(\"Enter Patient ID: \"))\n",
    "            if pid in patient_dict:\n",
    "                patient = patient_dict[pid]\n",
    "                print(f\"\\nPatient: {patient.first_name} {patient.last_name}\")\n",
    "                print(f\"Billing Items: {patient.billing_items}\")\n",
    "                print(f\"Line Item Costs: ${patient.line_item_costs}\")\n",
    "                print(f\"Total Bill: ${patient.total_bill}\")\n",
    "            else:\n",
    "                print(\"Patient not found.\")\n",
    "        except Exception as e:\n",
    "            print(f\"Error: {e}\")\n",
    "\n",
    "    def edit_lab_test(self):\n",
    "        # this allows the lab technician to edit lab test name or cost.\n",
    "        try:\n",
    "            pid = int(input(\"Enter Patient ID to edit lab info: \")) # show current labs\n",
    "            if pid in patient_dict:\n",
    "                patient = patient_dict[pid] # getting the patient object...\n",
    "                print(f\"\\nCurrent Lab Info for {patient.first_name} {patient.last_name}:\")\n",
    "                print(f\"Billing Items: {patient.billing_items}\")\n",
    "                print(f\"Line Item Cost: ${patient.line_item_costs}\")\n",
    "\n",
    "                \n",
    "                new_items = input(\"Enter new Assigned lab name (comma-separated): \")\n",
    "                new_cost = int(input(\"Enter new Assigned lab cost: \"))\n",
    "                \n",
    "                print(f\"\\nCurrent labs: {patient.billing_items}: \")\n",
    "\n",
    "                # recalculates total bill form the orginal.... (this part will proably need debugging if it crashes as I has to rush this part...)\n",
    "                patient.total_bill = new_cost + (patient.total_bill - patient.line_item_costs)\n",
    "                patient.billing_items = new_items\n",
    "                patient.line_item_costs = new_cost\n",
    "\n",
    "                # THIS CODE ONLY IF WE ARE STOING IN txt file......Saves updated patient dict to patients.txt....\n",
    "                with open(\"patients.txt\", \"w\") as file:\n",
    "                    for p in patient_dict.values():\n",
    "                        file.write(p.to_string() + \"\\n\")\n",
    "\n",
    "                print(\"Lab info updated successfully.\")\n",
    "            else:\n",
    "                print(\"Patient not found.\")\n",
    "        except Exception as e:\n",
    "            print(f\"Error: {e}\")\n",
    "\n",
    "# test the module (will need other code to work....  might crash if anything else gets in the way...)\n",
    "labtech = LabTechnician()\n",
    "labtech.lab_menu()"
   ]
  },
  {
   "cell_type": "code",
   "execution_count": null,
   "id": "9c0d7be3-7d13-4fcc-818e-a2b75a788f59",
   "metadata": {},
   "outputs": [],
   "source": []
  }
 ],
 "metadata": {
  "kernelspec": {
   "display_name": "Python [conda env:base] *",
   "language": "python",
   "name": "conda-base-py"
  },
  "language_info": {
   "codemirror_mode": {
    "name": "ipython",
    "version": 3
   },
   "file_extension": ".py",
   "mimetype": "text/x-python",
   "name": "python",
   "nbconvert_exporter": "python",
   "pygments_lexer": "ipython3",
   "version": "3.12.7"
  }
 },
 "nbformat": 4,
 "nbformat_minor": 5
}
